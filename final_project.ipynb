{
  "cells": [
    {
      "cell_type": "markdown",
      "metadata": {
        "id": "spnVLYsggt8-"
      },
      "source": [
        "Diego Toribio  \n",
        "Professor Eilin Perez  \n",
        "SS-322: History and Visuality  \n",
        "Final Project"
      ]
    },
    {
      "cell_type": "code",
      "execution_count": null,
      "metadata": {
        "id": "JOfXJoCJPAVu"
      },
      "outputs": [],
      "source": [
        "import ee\n",
        "import geemap\n",
        "from IPython.display import Image\n",
        "\n",
        "# Authenticate & initialize\n",
        "ee.Authenticate()\n",
        "ee.Initialize(project='toribiodiego-ece471')"
      ]
    }
  ],
  "metadata": {
    "colab": {
      "provenance": []
    },
    "kernelspec": {
      "display_name": "Python 3",
      "name": "python3"
    },
    "language_info": {
      "name": "python"
    }
  },
  "nbformat": 4,
  "nbformat_minor": 0
}
